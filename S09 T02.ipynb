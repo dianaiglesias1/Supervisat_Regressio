{
 "cells": [
  {
   "cell_type": "markdown",
   "id": "10f71c3a",
   "metadata": {},
   "source": [
    "### S09 T02: Aprenentatge Supervisat - Regressions"
   ]
  },
  {
   "cell_type": "code",
   "execution_count": 1,
   "id": "d6d9cfdb",
   "metadata": {},
   "outputs": [],
   "source": [
    "import numpy as np\n",
    "import pandas as pd\n",
    "import seaborn as sns\n",
    "import matplotlib.pyplot as plt\n",
    "import warnings\n",
    "warnings.filterwarnings('ignore')"
   ]
  },
  {
   "cell_type": "code",
   "execution_count": 2,
   "id": "c387b7de",
   "metadata": {},
   "outputs": [],
   "source": [
    "data=pd.read_csv('/Users/Diana/Downloads/archive/DelayedFlights.csv')"
   ]
  },
  {
   "cell_type": "code",
   "execution_count": 3,
   "id": "1c861d3c",
   "metadata": {},
   "outputs": [],
   "source": [
    "data=data.dropna()"
   ]
  },
  {
   "cell_type": "code",
   "execution_count": 4,
   "id": "4c84bcaa",
   "metadata": {},
   "outputs": [],
   "source": [
    "data=data.drop_duplicates()"
   ]
  },
  {
   "cell_type": "code",
   "execution_count": 5,
   "id": "c8b16270",
   "metadata": {},
   "outputs": [
    {
     "data": {
      "text/html": [
       "<div>\n",
       "<style scoped>\n",
       "    .dataframe tbody tr th:only-of-type {\n",
       "        vertical-align: middle;\n",
       "    }\n",
       "\n",
       "    .dataframe tbody tr th {\n",
       "        vertical-align: top;\n",
       "    }\n",
       "\n",
       "    .dataframe thead th {\n",
       "        text-align: right;\n",
       "    }\n",
       "</style>\n",
       "<table border=\"1\" class=\"dataframe\">\n",
       "  <thead>\n",
       "    <tr style=\"text-align: right;\">\n",
       "      <th></th>\n",
       "      <th>Year</th>\n",
       "      <th>Month</th>\n",
       "      <th>DayofMonth</th>\n",
       "      <th>DayOfWeek</th>\n",
       "      <th>DepTime</th>\n",
       "      <th>ArrTime</th>\n",
       "      <th>UniqueCarrier</th>\n",
       "      <th>AirTime</th>\n",
       "      <th>ArrDelay</th>\n",
       "      <th>DepDelay</th>\n",
       "      <th>Origin</th>\n",
       "      <th>Dest</th>\n",
       "      <th>Distance</th>\n",
       "      <th>Cancelled</th>\n",
       "      <th>Diverted</th>\n",
       "      <th>CarrierDelay</th>\n",
       "      <th>WeatherDelay</th>\n",
       "      <th>NASDelay</th>\n",
       "      <th>SecurityDelay</th>\n",
       "      <th>LateAircraftDelay</th>\n",
       "    </tr>\n",
       "  </thead>\n",
       "  <tbody>\n",
       "    <tr>\n",
       "      <th>3</th>\n",
       "      <td>2008</td>\n",
       "      <td>1</td>\n",
       "      <td>3</td>\n",
       "      <td>4</td>\n",
       "      <td>1829.0</td>\n",
       "      <td>1959.0</td>\n",
       "      <td>WN</td>\n",
       "      <td>77.0</td>\n",
       "      <td>34.0</td>\n",
       "      <td>34.0</td>\n",
       "      <td>IND</td>\n",
       "      <td>BWI</td>\n",
       "      <td>515</td>\n",
       "      <td>0</td>\n",
       "      <td>0</td>\n",
       "      <td>2.0</td>\n",
       "      <td>0.0</td>\n",
       "      <td>0.0</td>\n",
       "      <td>0.0</td>\n",
       "      <td>32.0</td>\n",
       "    </tr>\n",
       "    <tr>\n",
       "      <th>5</th>\n",
       "      <td>2008</td>\n",
       "      <td>1</td>\n",
       "      <td>3</td>\n",
       "      <td>4</td>\n",
       "      <td>1937.0</td>\n",
       "      <td>2037.0</td>\n",
       "      <td>WN</td>\n",
       "      <td>230.0</td>\n",
       "      <td>57.0</td>\n",
       "      <td>67.0</td>\n",
       "      <td>IND</td>\n",
       "      <td>LAS</td>\n",
       "      <td>1591</td>\n",
       "      <td>0</td>\n",
       "      <td>0</td>\n",
       "      <td>10.0</td>\n",
       "      <td>0.0</td>\n",
       "      <td>0.0</td>\n",
       "      <td>0.0</td>\n",
       "      <td>47.0</td>\n",
       "    </tr>\n",
       "    <tr>\n",
       "      <th>7</th>\n",
       "      <td>2008</td>\n",
       "      <td>1</td>\n",
       "      <td>3</td>\n",
       "      <td>4</td>\n",
       "      <td>1644.0</td>\n",
       "      <td>1845.0</td>\n",
       "      <td>WN</td>\n",
       "      <td>107.0</td>\n",
       "      <td>80.0</td>\n",
       "      <td>94.0</td>\n",
       "      <td>IND</td>\n",
       "      <td>MCO</td>\n",
       "      <td>828</td>\n",
       "      <td>0</td>\n",
       "      <td>0</td>\n",
       "      <td>8.0</td>\n",
       "      <td>0.0</td>\n",
       "      <td>0.0</td>\n",
       "      <td>0.0</td>\n",
       "      <td>72.0</td>\n",
       "    </tr>\n",
       "    <tr>\n",
       "      <th>9</th>\n",
       "      <td>2008</td>\n",
       "      <td>1</td>\n",
       "      <td>3</td>\n",
       "      <td>4</td>\n",
       "      <td>1452.0</td>\n",
       "      <td>1640.0</td>\n",
       "      <td>WN</td>\n",
       "      <td>213.0</td>\n",
       "      <td>15.0</td>\n",
       "      <td>27.0</td>\n",
       "      <td>IND</td>\n",
       "      <td>PHX</td>\n",
       "      <td>1489</td>\n",
       "      <td>0</td>\n",
       "      <td>0</td>\n",
       "      <td>3.0</td>\n",
       "      <td>0.0</td>\n",
       "      <td>0.0</td>\n",
       "      <td>0.0</td>\n",
       "      <td>12.0</td>\n",
       "    </tr>\n",
       "    <tr>\n",
       "      <th>11</th>\n",
       "      <td>2008</td>\n",
       "      <td>1</td>\n",
       "      <td>3</td>\n",
       "      <td>4</td>\n",
       "      <td>1323.0</td>\n",
       "      <td>1526.0</td>\n",
       "      <td>WN</td>\n",
       "      <td>110.0</td>\n",
       "      <td>16.0</td>\n",
       "      <td>28.0</td>\n",
       "      <td>IND</td>\n",
       "      <td>TPA</td>\n",
       "      <td>838</td>\n",
       "      <td>0</td>\n",
       "      <td>0</td>\n",
       "      <td>0.0</td>\n",
       "      <td>0.0</td>\n",
       "      <td>0.0</td>\n",
       "      <td>0.0</td>\n",
       "      <td>16.0</td>\n",
       "    </tr>\n",
       "  </tbody>\n",
       "</table>\n",
       "</div>"
      ],
      "text/plain": [
       "    Year  Month  DayofMonth  DayOfWeek  DepTime  ArrTime UniqueCarrier  \\\n",
       "3   2008      1           3          4   1829.0   1959.0            WN   \n",
       "5   2008      1           3          4   1937.0   2037.0            WN   \n",
       "7   2008      1           3          4   1644.0   1845.0            WN   \n",
       "9   2008      1           3          4   1452.0   1640.0            WN   \n",
       "11  2008      1           3          4   1323.0   1526.0            WN   \n",
       "\n",
       "    AirTime  ArrDelay  DepDelay Origin Dest  Distance  Cancelled  Diverted  \\\n",
       "3      77.0      34.0      34.0    IND  BWI       515          0         0   \n",
       "5     230.0      57.0      67.0    IND  LAS      1591          0         0   \n",
       "7     107.0      80.0      94.0    IND  MCO       828          0         0   \n",
       "9     213.0      15.0      27.0    IND  PHX      1489          0         0   \n",
       "11    110.0      16.0      28.0    IND  TPA       838          0         0   \n",
       "\n",
       "    CarrierDelay  WeatherDelay  NASDelay  SecurityDelay  LateAircraftDelay  \n",
       "3            2.0           0.0       0.0            0.0               32.0  \n",
       "5           10.0           0.0       0.0            0.0               47.0  \n",
       "7            8.0           0.0       0.0            0.0               72.0  \n",
       "9            3.0           0.0       0.0            0.0               12.0  \n",
       "11           0.0           0.0       0.0            0.0               16.0  "
      ]
     },
     "execution_count": 5,
     "metadata": {},
     "output_type": "execute_result"
    }
   ],
   "source": [
    "airlines=data.drop(['Unnamed: 0','CRSDepTime','CRSArrTime','FlightNum','TailNum', 'ActualElapsedTime', 'CRSElapsedTime','TaxiIn', 'TaxiOut','CancellationCode'], axis=1)\n",
    "airlines.head()"
   ]
  },
  {
   "cell_type": "code",
   "execution_count": 6,
   "id": "db64c6e7",
   "metadata": {},
   "outputs": [
    {
     "data": {
      "text/html": [
       "<div>\n",
       "<style scoped>\n",
       "    .dataframe tbody tr th:only-of-type {\n",
       "        vertical-align: middle;\n",
       "    }\n",
       "\n",
       "    .dataframe tbody tr th {\n",
       "        vertical-align: top;\n",
       "    }\n",
       "\n",
       "    .dataframe thead th {\n",
       "        text-align: right;\n",
       "    }\n",
       "</style>\n",
       "<table border=\"1\" class=\"dataframe\">\n",
       "  <thead>\n",
       "    <tr style=\"text-align: right;\">\n",
       "      <th></th>\n",
       "      <th>Year</th>\n",
       "      <th>Month</th>\n",
       "      <th>DayofMonth</th>\n",
       "      <th>DayOfWeek</th>\n",
       "      <th>DepTime</th>\n",
       "      <th>ArrTime</th>\n",
       "      <th>AirTime</th>\n",
       "      <th>ArrDelay</th>\n",
       "      <th>DepDelay</th>\n",
       "      <th>Distance</th>\n",
       "      <th>Cancelled</th>\n",
       "      <th>Diverted</th>\n",
       "      <th>CarrierDelay</th>\n",
       "      <th>WeatherDelay</th>\n",
       "      <th>NASDelay</th>\n",
       "      <th>SecurityDelay</th>\n",
       "      <th>LateAircraftDelay</th>\n",
       "    </tr>\n",
       "  </thead>\n",
       "  <tbody>\n",
       "    <tr>\n",
       "      <th>count</th>\n",
       "      <td>1247486.0</td>\n",
       "      <td>1247486.00</td>\n",
       "      <td>1247486.00</td>\n",
       "      <td>1247486.00</td>\n",
       "      <td>1247486.00</td>\n",
       "      <td>1247486.00</td>\n",
       "      <td>1247486.00</td>\n",
       "      <td>1247486.00</td>\n",
       "      <td>1247486.00</td>\n",
       "      <td>1247486.00</td>\n",
       "      <td>1247486.0</td>\n",
       "      <td>1247486.0</td>\n",
       "      <td>1247486.00</td>\n",
       "      <td>1247486.00</td>\n",
       "      <td>1247486.00</td>\n",
       "      <td>1247486.00</td>\n",
       "      <td>1247486.00</td>\n",
       "    </tr>\n",
       "    <tr>\n",
       "      <th>mean</th>\n",
       "      <td>2008.0</td>\n",
       "      <td>6.07</td>\n",
       "      <td>15.73</td>\n",
       "      <td>3.98</td>\n",
       "      <td>1558.83</td>\n",
       "      <td>1616.75</td>\n",
       "      <td>107.42</td>\n",
       "      <td>63.29</td>\n",
       "      <td>59.68</td>\n",
       "      <td>741.59</td>\n",
       "      <td>0.0</td>\n",
       "      <td>0.0</td>\n",
       "      <td>19.18</td>\n",
       "      <td>3.70</td>\n",
       "      <td>15.02</td>\n",
       "      <td>0.09</td>\n",
       "      <td>25.30</td>\n",
       "    </tr>\n",
       "    <tr>\n",
       "      <th>std</th>\n",
       "      <td>0.0</td>\n",
       "      <td>3.51</td>\n",
       "      <td>8.79</td>\n",
       "      <td>1.99</td>\n",
       "      <td>454.33</td>\n",
       "      <td>583.94</td>\n",
       "      <td>68.17</td>\n",
       "      <td>60.75</td>\n",
       "      <td>59.87</td>\n",
       "      <td>559.36</td>\n",
       "      <td>0.0</td>\n",
       "      <td>0.0</td>\n",
       "      <td>43.55</td>\n",
       "      <td>21.49</td>\n",
       "      <td>33.83</td>\n",
       "      <td>2.02</td>\n",
       "      <td>42.05</td>\n",
       "    </tr>\n",
       "    <tr>\n",
       "      <th>min</th>\n",
       "      <td>2008.0</td>\n",
       "      <td>1.00</td>\n",
       "      <td>1.00</td>\n",
       "      <td>1.00</td>\n",
       "      <td>1.00</td>\n",
       "      <td>1.00</td>\n",
       "      <td>0.00</td>\n",
       "      <td>15.00</td>\n",
       "      <td>6.00</td>\n",
       "      <td>11.00</td>\n",
       "      <td>0.0</td>\n",
       "      <td>0.0</td>\n",
       "      <td>0.00</td>\n",
       "      <td>0.00</td>\n",
       "      <td>0.00</td>\n",
       "      <td>0.00</td>\n",
       "      <td>0.00</td>\n",
       "    </tr>\n",
       "    <tr>\n",
       "      <th>25%</th>\n",
       "      <td>2008.0</td>\n",
       "      <td>3.00</td>\n",
       "      <td>8.00</td>\n",
       "      <td>2.00</td>\n",
       "      <td>1232.00</td>\n",
       "      <td>1326.00</td>\n",
       "      <td>58.00</td>\n",
       "      <td>26.00</td>\n",
       "      <td>24.00</td>\n",
       "      <td>334.00</td>\n",
       "      <td>0.0</td>\n",
       "      <td>0.0</td>\n",
       "      <td>0.00</td>\n",
       "      <td>0.00</td>\n",
       "      <td>0.00</td>\n",
       "      <td>0.00</td>\n",
       "      <td>0.00</td>\n",
       "    </tr>\n",
       "    <tr>\n",
       "      <th>50%</th>\n",
       "      <td>2008.0</td>\n",
       "      <td>6.00</td>\n",
       "      <td>16.00</td>\n",
       "      <td>4.00</td>\n",
       "      <td>1618.00</td>\n",
       "      <td>1737.00</td>\n",
       "      <td>90.00</td>\n",
       "      <td>43.00</td>\n",
       "      <td>41.00</td>\n",
       "      <td>595.00</td>\n",
       "      <td>0.0</td>\n",
       "      <td>0.0</td>\n",
       "      <td>2.00</td>\n",
       "      <td>0.00</td>\n",
       "      <td>2.00</td>\n",
       "      <td>0.00</td>\n",
       "      <td>8.00</td>\n",
       "    </tr>\n",
       "    <tr>\n",
       "      <th>75%</th>\n",
       "      <td>2008.0</td>\n",
       "      <td>9.00</td>\n",
       "      <td>23.00</td>\n",
       "      <td>6.00</td>\n",
       "      <td>1924.00</td>\n",
       "      <td>2048.00</td>\n",
       "      <td>136.00</td>\n",
       "      <td>79.00</td>\n",
       "      <td>75.00</td>\n",
       "      <td>972.00</td>\n",
       "      <td>0.0</td>\n",
       "      <td>0.0</td>\n",
       "      <td>21.00</td>\n",
       "      <td>0.00</td>\n",
       "      <td>15.00</td>\n",
       "      <td>0.00</td>\n",
       "      <td>33.00</td>\n",
       "    </tr>\n",
       "    <tr>\n",
       "      <th>max</th>\n",
       "      <td>2008.0</td>\n",
       "      <td>12.00</td>\n",
       "      <td>31.00</td>\n",
       "      <td>7.00</td>\n",
       "      <td>2400.00</td>\n",
       "      <td>2400.00</td>\n",
       "      <td>1091.00</td>\n",
       "      <td>2461.00</td>\n",
       "      <td>2467.00</td>\n",
       "      <td>4962.00</td>\n",
       "      <td>0.0</td>\n",
       "      <td>0.0</td>\n",
       "      <td>2436.00</td>\n",
       "      <td>1352.00</td>\n",
       "      <td>1357.00</td>\n",
       "      <td>392.00</td>\n",
       "      <td>1316.00</td>\n",
       "    </tr>\n",
       "  </tbody>\n",
       "</table>\n",
       "</div>"
      ],
      "text/plain": [
       "            Year       Month  DayofMonth   DayOfWeek     DepTime     ArrTime  \\\n",
       "count  1247486.0  1247486.00  1247486.00  1247486.00  1247486.00  1247486.00   \n",
       "mean      2008.0        6.07       15.73        3.98     1558.83     1616.75   \n",
       "std          0.0        3.51        8.79        1.99      454.33      583.94   \n",
       "min       2008.0        1.00        1.00        1.00        1.00        1.00   \n",
       "25%       2008.0        3.00        8.00        2.00     1232.00     1326.00   \n",
       "50%       2008.0        6.00       16.00        4.00     1618.00     1737.00   \n",
       "75%       2008.0        9.00       23.00        6.00     1924.00     2048.00   \n",
       "max       2008.0       12.00       31.00        7.00     2400.00     2400.00   \n",
       "\n",
       "          AirTime    ArrDelay    DepDelay    Distance  Cancelled   Diverted  \\\n",
       "count  1247486.00  1247486.00  1247486.00  1247486.00  1247486.0  1247486.0   \n",
       "mean       107.42       63.29       59.68      741.59        0.0        0.0   \n",
       "std         68.17       60.75       59.87      559.36        0.0        0.0   \n",
       "min          0.00       15.00        6.00       11.00        0.0        0.0   \n",
       "25%         58.00       26.00       24.00      334.00        0.0        0.0   \n",
       "50%         90.00       43.00       41.00      595.00        0.0        0.0   \n",
       "75%        136.00       79.00       75.00      972.00        0.0        0.0   \n",
       "max       1091.00     2461.00     2467.00     4962.00        0.0        0.0   \n",
       "\n",
       "       CarrierDelay  WeatherDelay    NASDelay  SecurityDelay  \\\n",
       "count    1247486.00    1247486.00  1247486.00     1247486.00   \n",
       "mean          19.18          3.70       15.02           0.09   \n",
       "std           43.55         21.49       33.83           2.02   \n",
       "min            0.00          0.00        0.00           0.00   \n",
       "25%            0.00          0.00        0.00           0.00   \n",
       "50%            2.00          0.00        2.00           0.00   \n",
       "75%           21.00          0.00       15.00           0.00   \n",
       "max         2436.00       1352.00     1357.00         392.00   \n",
       "\n",
       "       LateAircraftDelay  \n",
       "count         1247486.00  \n",
       "mean               25.30  \n",
       "std                42.05  \n",
       "min                 0.00  \n",
       "25%                 0.00  \n",
       "50%                 8.00  \n",
       "75%                33.00  \n",
       "max              1316.00  "
      ]
     },
     "execution_count": 6,
     "metadata": {},
     "output_type": "execute_result"
    }
   ],
   "source": [
    "airlines.describe().round(2)"
   ]
  },
  {
   "cell_type": "markdown",
   "id": "a9e0bdf5",
   "metadata": {},
   "source": [
    "### Exercici 1\n",
    "\n",
    "Crea almenys tres models de regressió diferents per intentar predir el millor possible l’endarreriment dels vols (ArrDelay) de DelayedFlights.csv."
   ]
  },
  {
   "cell_type": "code",
   "execution_count": 7,
   "id": "9dcb2502",
   "metadata": {},
   "outputs": [],
   "source": [
    "#Using Skicit-learn to split data into training and testing sets\n",
    "\n",
    "from sklearn.model_selection import train_test_split\n",
    "\n",
    "#defining independent and dependent variable:\n",
    "\n",
    "X=np.array(airlines['DepDelay']).reshape((-1, 1))\n",
    "y=np.array(airlines['ArrDelay'])"
   ]
  },
  {
   "cell_type": "code",
   "execution_count": 8,
   "id": "454db8fd",
   "metadata": {},
   "outputs": [],
   "source": [
    "#Split the data into training and testing sets\n",
    "\n",
    "X_train, X_test, y_train, y_test=train_test_split(X, y, test_size=0.20, random_state=42)"
   ]
  },
  {
   "cell_type": "markdown",
   "id": "1fb100bc",
   "metadata": {},
   "source": [
    "#### Simple Linear Regression"
   ]
  },
  {
   "cell_type": "code",
   "execution_count": 9,
   "id": "33125b38",
   "metadata": {},
   "outputs": [],
   "source": [
    "from sklearn.linear_model import LinearRegression"
   ]
  },
  {
   "cell_type": "code",
   "execution_count": 10,
   "id": "5533fa76",
   "metadata": {},
   "outputs": [],
   "source": [
    "X=np.array(airlines['DepDelay']).reshape((-1, 1))  #stating independent variable. Reshape because this array is required to be two-dimensional\n",
    "y=np.array(airlines['ArrDelay'])  #stating dependent variable"
   ]
  },
  {
   "cell_type": "code",
   "execution_count": 11,
   "id": "ca4df892",
   "metadata": {},
   "outputs": [
    {
     "data": {
      "text/plain": [
       "LinearRegression()"
      ]
     },
     "execution_count": 11,
     "metadata": {},
     "output_type": "execute_result"
    }
   ],
   "source": [
    "#Create a model and fit it\n",
    "\n",
    "model=LinearRegression()\n",
    "model.fit(X,y)"
   ]
  },
  {
   "cell_type": "code",
   "execution_count": 12,
   "id": "f304efe5",
   "metadata": {},
   "outputs": [
    {
     "name": "stdout",
     "output_type": "stream",
     "text": [
      "coefficient of determination: 0.9031143387590899\n"
     ]
    }
   ],
   "source": [
    "#obtaining the coefficient of determination (𝑅²)\n",
    "\n",
    "r_sq=model.score(X, y)\n",
    "print('coefficient of determination:', r_sq)"
   ]
  },
  {
   "cell_type": "markdown",
   "id": "04418111",
   "metadata": {},
   "source": [
    "R2 is the proportion of the variance in the response variable that can be explained by the predictor variables in a linear regression model. The bigger the R2 value, the better the fit between prediction and actual value.\n",
    "\n",
    "R Square is a good measure to determine how well the model fits the dependent variables. However, it does not take into consideration of overfitting problem. That is why Adjusted R Square is introduced."
   ]
  },
  {
   "cell_type": "code",
   "execution_count": 13,
   "id": "677dc0cf",
   "metadata": {},
   "outputs": [
    {
     "data": {
      "text/plain": [
       "0.9031142610942371"
      ]
     },
     "execution_count": 13,
     "metadata": {},
     "output_type": "execute_result"
    }
   ],
   "source": [
    "#display adjusted R-squared\n",
    "1 - (1-model.score(X, y))*(len(y)-1)/(len(y)-X.shape[1]-1)"
   ]
  },
  {
   "cell_type": "markdown",
   "id": "0032596d",
   "metadata": {},
   "source": [
    "Adjusted R Square is roughly the same as R Square meaning the model is quite robust."
   ]
  },
  {
   "cell_type": "code",
   "execution_count": 14,
   "id": "4415139c",
   "metadata": {},
   "outputs": [
    {
     "name": "stdout",
     "output_type": "stream",
     "text": [
      "intercept: 5.740063751050258\n",
      "slope: [0.96437103]\n"
     ]
    }
   ],
   "source": [
    "print('intercept:', model.intercept_)\n",
    "\n",
    "print('slope:', model.coef_)"
   ]
  },
  {
   "cell_type": "markdown",
   "id": "697da5a5",
   "metadata": {},
   "source": [
    "Our model predicts the response 5.74 when 𝑥 is zero. The value 𝑏₁(slope)=0.96 means that the predicted response rises by 0.96 when 𝑥 is increased by one."
   ]
  },
  {
   "cell_type": "code",
   "execution_count": 15,
   "id": "a62d4863",
   "metadata": {},
   "outputs": [
    {
     "name": "stdout",
     "output_type": "stream",
     "text": [
      "predicted response:\n",
      "[38.52867893 70.35292307 96.390941   ... 34.67119479 60.70921272\n",
      " 82.88974652]\n"
     ]
    }
   ],
   "source": [
    "#obtaining the predicted response. We can predict the class for new data instances using our finalized classification \n",
    "#model in scikit-learn using the predict() function.\n",
    "\n",
    "linear_pred = model.predict(X)\n",
    "print('predicted response:', linear_pred, sep='\\n')"
   ]
  },
  {
   "cell_type": "code",
   "execution_count": 16,
   "id": "54270832",
   "metadata": {},
   "outputs": [
    {
     "data": {
      "text/html": [
       "<div>\n",
       "<style scoped>\n",
       "    .dataframe tbody tr th:only-of-type {\n",
       "        vertical-align: middle;\n",
       "    }\n",
       "\n",
       "    .dataframe tbody tr th {\n",
       "        vertical-align: top;\n",
       "    }\n",
       "\n",
       "    .dataframe thead th {\n",
       "        text-align: right;\n",
       "    }\n",
       "</style>\n",
       "<table border=\"1\" class=\"dataframe\">\n",
       "  <thead>\n",
       "    <tr style=\"text-align: right;\">\n",
       "      <th></th>\n",
       "      <th>Actual</th>\n",
       "      <th>Predicted</th>\n",
       "    </tr>\n",
       "  </thead>\n",
       "  <tbody>\n",
       "    <tr>\n",
       "      <th>0</th>\n",
       "      <td>34.0</td>\n",
       "      <td>38.528679</td>\n",
       "    </tr>\n",
       "    <tr>\n",
       "      <th>1</th>\n",
       "      <td>57.0</td>\n",
       "      <td>70.352923</td>\n",
       "    </tr>\n",
       "    <tr>\n",
       "      <th>2</th>\n",
       "      <td>80.0</td>\n",
       "      <td>96.390941</td>\n",
       "    </tr>\n",
       "    <tr>\n",
       "      <th>3</th>\n",
       "      <td>15.0</td>\n",
       "      <td>31.778082</td>\n",
       "    </tr>\n",
       "    <tr>\n",
       "      <th>4</th>\n",
       "      <td>16.0</td>\n",
       "      <td>32.742453</td>\n",
       "    </tr>\n",
       "  </tbody>\n",
       "</table>\n",
       "</div>"
      ],
      "text/plain": [
       "   Actual  Predicted\n",
       "0    34.0  38.528679\n",
       "1    57.0  70.352923\n",
       "2    80.0  96.390941\n",
       "3    15.0  31.778082\n",
       "4    16.0  32.742453"
      ]
     },
     "execution_count": 16,
     "metadata": {},
     "output_type": "execute_result"
    }
   ],
   "source": [
    "df_reg=pd.DataFrame({'Actual':y, 'Predicted':linear_pred})\n",
    "df_reg.head()"
   ]
  },
  {
   "cell_type": "code",
   "execution_count": 17,
   "id": "285fc928",
   "metadata": {},
   "outputs": [
    {
     "data": {
      "image/png": "[encoded data removed]",
      "text/plain": [
       "<Figure size 432x288 with 1 Axes>"
      ]
     },
     "metadata": {
      "needs_background": "light"
     },
     "output_type": "display_data"
    }
   ],
   "source": [
    "plt.scatter(X, y, color = \"green\")\n",
    "plt.plot(X, model.predict(X), color = \"red\")\n",
    "plt.title('Arrival Delays vs Departure Delays')\n",
    "plt.xlabel('Arrival Delays (in mins.)')\n",
    "plt.ylabel('Departure Delays (in mins.)')\n",
    "plt.show()"
   ]
  },
  {
   "cell_type": "markdown",
   "id": "b7cc6c61",
   "metadata": {},
   "source": [
    "#### Random Forest Regression Model"
   ]
  },
  {
   "cell_type": "markdown",
   "id": "d21622a5",
   "metadata": {},
   "source": [
    "Random forest is a Supervised Machine Learning Algorithm that is used widely in Classification and Regression problems. It builds decision trees on different samples and takes their majority vote for classification and average in case of regression.\n",
    "\n",
    "One of the most important features of the Random Forest Algorithm is that it can handle the data set containing continuous variables as in the case of regression and categorical variables as in the case of classification. It performs better results for classification problems."
   ]
  },
  {
   "cell_type": "code",
   "execution_count": 18,
   "id": "dac3726b",
   "metadata": {},
   "outputs": [],
   "source": [
    "#train the model:\n",
    "\n",
    "#Import the model we are using\n",
    "from sklearn.ensemble import RandomForestRegressor\n",
    "\n",
    "#Instantiate model with 200 decision trees\n",
    "rf=RandomForestRegressor(n_estimators=200, random_state=42)"
   ]
  },
  {
   "cell_type": "code",
   "execution_count": 19,
   "id": "96459f0f",
   "metadata": {},
   "outputs": [
    {
     "data": {
      "text/plain": [
       "RandomForestRegressor(n_estimators=200, random_state=42)"
      ]
     },
     "execution_count": 19,
     "metadata": {},
     "output_type": "execute_result"
    }
   ],
   "source": [
    "#Train the model on training data\n",
    "rf.fit(X_train, y_train)"
   ]
  },
  {
   "cell_type": "markdown",
   "id": "e0f2f246",
   "metadata": {},
   "source": [
    "Our model has now been trained to learn the relationships between X and y. The next step is figuring out how good the model is! To do this we make predictions on the X_test (the model is never allowed to see the test answers)."
   ]
  },
  {
   "cell_type": "code",
   "execution_count": 20,
   "id": "66e28735",
   "metadata": {},
   "outputs": [
    {
     "name": "stdout",
     "output_type": "stream",
     "text": [
      "predicted response:\n",
      "[ 36.60164224  29.27867308 146.95207949 ...  93.64076918  28.35085829\n",
      "  26.5267355 ]\n"
     ]
    }
   ],
   "source": [
    "rf_pred=rf.predict(X_test)\n",
    "print('predicted response:', rf_pred, sep='\\n')"
   ]
  },
  {
   "cell_type": "code",
   "execution_count": 21,
   "id": "fefa1979",
   "metadata": {},
   "outputs": [
    {
     "data": {
      "text/html": [
       "<div>\n",
       "<style scoped>\n",
       "    .dataframe tbody tr th:only-of-type {\n",
       "        vertical-align: middle;\n",
       "    }\n",
       "\n",
       "    .dataframe tbody tr th {\n",
       "        vertical-align: top;\n",
       "    }\n",
       "\n",
       "    .dataframe thead th {\n",
       "        text-align: right;\n",
       "    }\n",
       "</style>\n",
       "<table border=\"1\" class=\"dataframe\">\n",
       "  <thead>\n",
       "    <tr style=\"text-align: right;\">\n",
       "      <th></th>\n",
       "      <th>Actual</th>\n",
       "      <th>Predicted</th>\n",
       "    </tr>\n",
       "  </thead>\n",
       "  <tbody>\n",
       "    <tr>\n",
       "      <th>0</th>\n",
       "      <td>44.0</td>\n",
       "      <td>36.601642</td>\n",
       "    </tr>\n",
       "    <tr>\n",
       "      <th>1</th>\n",
       "      <td>35.0</td>\n",
       "      <td>29.278673</td>\n",
       "    </tr>\n",
       "    <tr>\n",
       "      <th>2</th>\n",
       "      <td>137.0</td>\n",
       "      <td>146.952079</td>\n",
       "    </tr>\n",
       "    <tr>\n",
       "      <th>3</th>\n",
       "      <td>59.0</td>\n",
       "      <td>46.730877</td>\n",
       "    </tr>\n",
       "    <tr>\n",
       "      <th>4</th>\n",
       "      <td>28.0</td>\n",
       "      <td>31.072135</td>\n",
       "    </tr>\n",
       "  </tbody>\n",
       "</table>\n",
       "</div>"
      ],
      "text/plain": [
       "   Actual   Predicted\n",
       "0    44.0   36.601642\n",
       "1    35.0   29.278673\n",
       "2   137.0  146.952079\n",
       "3    59.0   46.730877\n",
       "4    28.0   31.072135"
      ]
     },
     "execution_count": 21,
     "metadata": {},
     "output_type": "execute_result"
    }
   ],
   "source": [
    "df_rf=pd.DataFrame({'Actual':y_test, 'Predicted':rf_pred})\n",
    "df_rf.head()"
   ]
  },
  {
   "cell_type": "code",
   "execution_count": 22,
   "id": "b4cdcb5e",
   "metadata": {},
   "outputs": [
    {
     "name": "stdout",
     "output_type": "stream",
     "text": [
      "coefficient of determination: 0.9099232179909649\n"
     ]
    }
   ],
   "source": [
    "r_sq_rf=rf.score(X, y)\n",
    "print('coefficient of determination:', r_sq_rf)"
   ]
  },
  {
   "cell_type": "markdown",
   "id": "704b22b7",
   "metadata": {},
   "source": [
    "#### LASSO Regression"
   ]
  },
  {
   "cell_type": "markdown",
   "id": "75a5129f",
   "metadata": {},
   "source": [
    "LASSO regression is a variation of linear regression specifically adapted for data that shows heavy multicollinearity (heavy correlation of features with each other). It automates parts of model selection, like variable selection or parameter elimination. Standing for Least Absolute Shrinkage and Selection Operator, LASSO uses shrinkage, a process in which data values are shrunk towards a central point (for example, the mean)."
   ]
  },
  {
   "cell_type": "code",
   "execution_count": 23,
   "id": "7e83f9ac",
   "metadata": {},
   "outputs": [
    {
     "data": {
      "text/plain": [
       "LassoCV(random_state=42)"
      ]
     },
     "execution_count": 23,
     "metadata": {},
     "output_type": "execute_result"
    }
   ],
   "source": [
    "from sklearn.linear_model import LassoCV\n",
    "model_lasso= LassoCV(random_state=42)\n",
    "model_lasso.fit(X_train, y_train)"
   ]
  },
  {
   "cell_type": "code",
   "execution_count": 24,
   "id": "14ba280e",
   "metadata": {},
   "outputs": [
    {
     "name": "stdout",
     "output_type": "stream",
     "text": [
      "predicted response:\n",
      "[ 40.46923851  29.87007762 145.49728738 ...  95.39216315  28.90651753\n",
      "  23.12515705]\n"
     ]
    }
   ],
   "source": [
    "lasso_pred=model_lasso.predict(X_test)\n",
    "print('predicted response:', lasso_pred, sep='\\n')"
   ]
  },
  {
   "cell_type": "code",
   "execution_count": 25,
   "id": "9ad7869d",
   "metadata": {},
   "outputs": [
    {
     "data": {
      "text/html": [
       "<div>\n",
       "<style scoped>\n",
       "    .dataframe tbody tr th:only-of-type {\n",
       "        vertical-align: middle;\n",
       "    }\n",
       "\n",
       "    .dataframe tbody tr th {\n",
       "        vertical-align: top;\n",
       "    }\n",
       "\n",
       "    .dataframe thead th {\n",
       "        text-align: right;\n",
       "    }\n",
       "</style>\n",
       "<table border=\"1\" class=\"dataframe\">\n",
       "  <thead>\n",
       "    <tr style=\"text-align: right;\">\n",
       "      <th></th>\n",
       "      <th>Actual</th>\n",
       "      <th>Predicted</th>\n",
       "    </tr>\n",
       "  </thead>\n",
       "  <tbody>\n",
       "    <tr>\n",
       "      <th>0</th>\n",
       "      <td>44.0</td>\n",
       "      <td>40.469239</td>\n",
       "    </tr>\n",
       "    <tr>\n",
       "      <th>1</th>\n",
       "      <td>35.0</td>\n",
       "      <td>29.870078</td>\n",
       "    </tr>\n",
       "    <tr>\n",
       "      <th>2</th>\n",
       "      <td>137.0</td>\n",
       "      <td>145.497287</td>\n",
       "    </tr>\n",
       "    <tr>\n",
       "      <th>3</th>\n",
       "      <td>59.0</td>\n",
       "      <td>51.068399</td>\n",
       "    </tr>\n",
       "    <tr>\n",
       "      <th>4</th>\n",
       "      <td>28.0</td>\n",
       "      <td>33.724318</td>\n",
       "    </tr>\n",
       "  </tbody>\n",
       "</table>\n",
       "</div>"
      ],
      "text/plain": [
       "   Actual   Predicted\n",
       "0    44.0   40.469239\n",
       "1    35.0   29.870078\n",
       "2   137.0  145.497287\n",
       "3    59.0   51.068399\n",
       "4    28.0   33.724318"
      ]
     },
     "execution_count": 25,
     "metadata": {},
     "output_type": "execute_result"
    }
   ],
   "source": [
    "df_lasso=pd.DataFrame({'Actual':y_test, 'Predicted':lasso_pred})\n",
    "df_lasso.head()"
   ]
  },
  {
   "cell_type": "code",
   "execution_count": 26,
   "id": "d61b7ec9",
   "metadata": {},
   "outputs": [
    {
     "name": "stdout",
     "output_type": "stream",
     "text": [
      "coefficient of determination: 0.9031136853636889\n"
     ]
    }
   ],
   "source": [
    "r_sq_lasso=model_lasso.score(X, y)\n",
    "print('coefficient of determination:', r_sq_lasso)"
   ]
  },
  {
   "cell_type": "markdown",
   "id": "78927f34",
   "metadata": {},
   "source": [
    "### Exercici 2\n",
    "\n",
    "Compara’ls en base al MSE i al R2 ."
   ]
  },
  {
   "cell_type": "markdown",
   "id": "0640f5d0",
   "metadata": {},
   "source": [
    "R Square: measures how much variability in dependent variable can be explained by the model. It is the square of the Correlation Coefficient(R) and that is why it is called R Square. R Square is a good measure to determine how well the model fits the dependent variables."
   ]
  },
  {
   "cell_type": "code",
   "execution_count": 27,
   "id": "51d7843b",
   "metadata": {},
   "outputs": [],
   "source": [
    "from sklearn import metrics"
   ]
  },
  {
   "cell_type": "markdown",
   "id": "993d466b",
   "metadata": {},
   "source": [
    "R Square measures how much variability in dependent variable can be explained by the model"
   ]
  },
  {
   "cell_type": "code",
   "execution_count": 28,
   "id": "be9eb654",
   "metadata": {},
   "outputs": [
    {
     "name": "stdout",
     "output_type": "stream",
     "text": [
      "R Square for Linear Model: 0.9031143387590899\n",
      "R Square for Random Forest Model: 0.9099232179909649\n",
      "R Square for Lasso Model: 0.9031136853636889\n"
     ]
    }
   ],
   "source": [
    "print('R Square for Linear Model:' , r_sq)\n",
    "print('R Square for Random Forest Model:' , r_sq_rf)\n",
    "print('R Square for Lasso Model:' , r_sq_lasso)"
   ]
  },
  {
   "cell_type": "markdown",
   "id": "281e1ef2",
   "metadata": {},
   "source": [
    "All models have very similar values but with Random Forest Model we can interpret that almost 91% of dependent variability can be explained with the model."
   ]
  },
  {
   "cell_type": "markdown",
   "id": "f49bdf03",
   "metadata": {},
   "source": [
    "While R Square is a relative measure of how well the model fits dependent variables, Mean Square Error is an absolute measure of the goodness for the fit. It gives you an absolute number on how much your predicted results deviate from the actual number."
   ]
  },
  {
   "cell_type": "code",
   "execution_count": 29,
   "id": "f41d976f",
   "metadata": {},
   "outputs": [
    {
     "name": "stdout",
     "output_type": "stream",
     "text": [
      "Mean Squared Error for Linear Model: 357.60697789082246\n",
      "Mean Squared Error for Random Forest Model: 332.87018140911294\n",
      "Mean Squared Error for Lasso Model: 357.5868665555633\n"
     ]
    }
   ],
   "source": [
    "print('Mean Squared Error for Linear Model:', metrics.mean_squared_error(y, linear_pred))\n",
    "print('Mean Squared Error for Random Forest Model:', metrics.mean_squared_error(y_test, rf_pred))\n",
    "print('Mean Squared Error for Lasso Model:', metrics.mean_squared_error(y_test, lasso_pred))"
   ]
  },
  {
   "cell_type": "markdown",
   "id": "99a59781",
   "metadata": {},
   "source": [
    "The least deviation of the three models is the Random Forest. Again, results are very similar among all three."
   ]
  },
  {
   "cell_type": "markdown",
   "id": "7d9550fe",
   "metadata": {},
   "source": [
    "Root Mean Square Error(RMSE) is the square root of MSE. It is used more commonly than MSE because firstly sometimes MSE value can be too big to compare easily. "
   ]
  },
  {
   "cell_type": "code",
   "execution_count": 30,
   "id": "b980d652",
   "metadata": {},
   "outputs": [
    {
     "name": "stdout",
     "output_type": "stream",
     "text": [
      "Root Mean Squared Error for Linear Model: 18.91049914441241\n",
      "Root Mean Squared Error for Random Forest Model: 18.244730236676915\n",
      "Root Mean Squared Error for Lasso Model: 18.90996738642252\n"
     ]
    }
   ],
   "source": [
    "print('Root Mean Squared Error for Linear Model:', np.sqrt(metrics.mean_squared_error(y, linear_pred)))\n",
    "print('Root Mean Squared Error for Random Forest Model:', np.sqrt(metrics.mean_squared_error(y_test, rf_pred)))\n",
    "print('Root Mean Squared Error for Lasso Model:', np.sqrt(metrics.mean_squared_error(y_test, lasso_pred)))"
   ]
  },
  {
   "cell_type": "markdown",
   "id": "9f977abe",
   "metadata": {},
   "source": [
    "As we have seen with MSE, the best model is still Random Forest."
   ]
  },
  {
   "cell_type": "markdown",
   "id": "eb3aa055",
   "metadata": {},
   "source": [
    "### Exercici 2\n",
    "\n",
    "Entrena’ls utilitzant els diferents paràmetres que admeten."
   ]
  },
  {
   "cell_type": "markdown",
   "id": "c8e7ceef",
   "metadata": {},
   "source": [
    "**Linear Regression**"
   ]
  },
  {
   "cell_type": "code",
   "execution_count": 31,
   "id": "a9a528f6",
   "metadata": {},
   "outputs": [
    {
     "name": "stdout",
     "output_type": "stream",
     "text": [
      "coefficient of determination: 0.9031143387590899\n"
     ]
    }
   ],
   "source": [
    "#model by default\n",
    "\n",
    "model=LinearRegression()\n",
    "model.fit(X,y)\n",
    "r_sq=model.score(X, y)\n",
    "print('coefficient of determination:', r_sq)"
   ]
  },
  {
   "cell_type": "code",
   "execution_count": 32,
   "id": "e63c1859",
   "metadata": {},
   "outputs": [
    {
     "name": "stdout",
     "output_type": "stream",
     "text": [
      "coefficient of determination: 0.9031143387590899\n"
     ]
    }
   ],
   "source": [
    "#I will change n-jobs parameter tp -1 (using all processors) and set normalize to True, meaning the regressors X \n",
    "#will be normalized before regression by subtracting the mean and dividing by the l2-norm\n",
    "\n",
    "model=LinearRegression(n_jobs=-1, normalize=True)\n",
    "model.fit(X,y)\n",
    "r_sq=model.score(X, y)\n",
    "print('coefficient of determination:', r_sq)"
   ]
  },
  {
   "cell_type": "code",
   "execution_count": 33,
   "id": "834b8fba",
   "metadata": {},
   "outputs": [
    {
     "name": "stdout",
     "output_type": "stream",
     "text": [
      "coefficient of determination: 0.8986367245409899\n"
     ]
    }
   ],
   "source": [
    "#Training the model with fit intercept Whether to calculate the intercept for this model. \n",
    "#If set to False, no intercept will be used in calculations (i.e. data is expected to be centered)\n",
    "\n",
    "model=LinearRegression(fit_intercept=False)\n",
    "model.fit(X,y)\n",
    "r_sq=model.score(X, y)\n",
    "print('coefficient of determination:', r_sq)"
   ]
  },
  {
   "cell_type": "markdown",
   "id": "29ee94ce",
   "metadata": {},
   "source": [
    "Setting fit_intercept to False will reduce accuracy."
   ]
  },
  {
   "cell_type": "markdown",
   "id": "f1acacc1",
   "metadata": {},
   "source": [
    "**Random Forest Regression**"
   ]
  },
  {
   "cell_type": "code",
   "execution_count": 34,
   "id": "c4af22f9",
   "metadata": {},
   "outputs": [
    {
     "name": "stdout",
     "output_type": "stream",
     "text": [
      "coefficient of determination: 0.9099232179909649\n"
     ]
    }
   ],
   "source": [
    "#model by default\n",
    "\n",
    "rf=RandomForestRegressor(n_estimators=200, random_state=42)\n",
    "rf.fit(X_train, y_train)\n",
    "r_sq_rf=rf.score(X, y)\n",
    "print('coefficient of determination:', r_sq_rf)"
   ]
  },
  {
   "cell_type": "code",
   "execution_count": 35,
   "id": "06c4e279",
   "metadata": {},
   "outputs": [
    {
     "name": "stdout",
     "output_type": "stream",
     "text": [
      "coefficient of determination: 0.9099235534824746\n"
     ]
    }
   ],
   "source": [
    "#Changing n_estimators to 1000, setting random_state to 0, and bootstrap to True (bootstrap samples \n",
    "#are used when building trees)\n",
    "\n",
    "rf=RandomForestRegressor(n_estimators=1000, random_state=0, bootstrap=True)\n",
    "rf.fit(X_train, y_train)\n",
    "r_sq_rf=rf.score(X, y)\n",
    "print('coefficient of determination:', r_sq_rf)"
   ]
  },
  {
   "cell_type": "code",
   "execution_count": 36,
   "id": "bb178dcd",
   "metadata": {},
   "outputs": [
    {
     "name": "stdout",
     "output_type": "stream",
     "text": [
      "coefficient of determination: 0.9099330278142707\n"
     ]
    }
   ],
   "source": [
    "#Changing n_estimators to 100, setting random_state to 42, bootstrap to False\n",
    "\n",
    "rf=RandomForestRegressor(n_estimators=100, random_state=42, bootstrap=False)\n",
    "rf.fit(X_train, y_train)\n",
    "r_sq_rf=rf.score(X, y)\n",
    "print('coefficient of determination:', r_sq_rf)"
   ]
  },
  {
   "cell_type": "code",
   "execution_count": 37,
   "id": "44d19aeb",
   "metadata": {},
   "outputs": [
    {
     "name": "stdout",
     "output_type": "stream",
     "text": [
      "coefficient of determination: 0.9099244400545512\n"
     ]
    }
   ],
   "source": [
    "rf=RandomForestRegressor(n_estimators=1000, random_state=42, bootstrap=True, warm_start=True)\n",
    "rf.fit(X_train, y_train)\n",
    "r_sq_rf=rf.score(X, y)\n",
    "print('coefficient of determination:', r_sq_rf)"
   ]
  },
  {
   "cell_type": "markdown",
   "id": "54347e72",
   "metadata": {},
   "source": [
    "In this case, all the variations performed lead to a similar result."
   ]
  },
  {
   "cell_type": "markdown",
   "id": "d35d99df",
   "metadata": {},
   "source": [
    "**Lasso Regression Model**"
   ]
  },
  {
   "cell_type": "code",
   "execution_count": 38,
   "id": "4c65f504",
   "metadata": {},
   "outputs": [
    {
     "name": "stdout",
     "output_type": "stream",
     "text": [
      "coefficient of determination: 0.9031136853636889\n"
     ]
    }
   ],
   "source": [
    "#initial model\n",
    "\n",
    "model_lasso= LassoCV(random_state=42)\n",
    "model_lasso.fit(X_train, y_train)\n",
    "r_sq_lasso=model_lasso.score(X, y)\n",
    "print('coefficient of determination:', r_sq_lasso)"
   ]
  },
  {
   "cell_type": "code",
   "execution_count": 39,
   "id": "d2e6cc5a",
   "metadata": {},
   "outputs": [
    {
     "name": "stdout",
     "output_type": "stream",
     "text": [
      "coefficient of determination: 0.8986348944662619\n"
     ]
    }
   ],
   "source": [
    "#setting fit_intercept to False, max_iter to 2000 (default is 1000)\n",
    "\n",
    "model_lasso= LassoCV(random_state=42, fit_intercept=False, max_iter=2000)\n",
    "model_lasso.fit(X_train, y_train)\n",
    "r_sq_lasso=model_lasso.score(X, y)\n",
    "print('coefficient of determination:', r_sq_lasso)"
   ]
  },
  {
   "cell_type": "code",
   "execution_count": 40,
   "id": "e8d7b189",
   "metadata": {},
   "outputs": [
    {
     "name": "stdout",
     "output_type": "stream",
     "text": [
      "coefficient of determination: 0.8986348944662619\n"
     ]
    }
   ],
   "source": [
    "#setting max_iter to 500 and cv=10 (default is 5), and selection='random' (cyclic is default). By setting selection to\n",
    "#random, a random coefficient is updated every iteration rather than looping over features sequentially by default. \n",
    "\n",
    "model_lasso= LassoCV(random_state=42, fit_intercept=False, max_iter=500, cv=10, selection='random')\n",
    "model_lasso.fit(X_train, y_train)\n",
    "r_sq_lasso=model_lasso.score(X, y)\n",
    "print('coefficient of determination:', r_sq_lasso)"
   ]
  },
  {
   "cell_type": "markdown",
   "id": "2d6cdc0a",
   "metadata": {},
   "source": [
    "Clearly, setting intercept to False (no intercept used in calculations) makes the model less precise."
   ]
  },
  {
   "cell_type": "markdown",
   "id": "32dd7b92",
   "metadata": {},
   "source": [
    "### Exercici 4\n",
    "\n",
    "Compara el seu rendiment utilitzant l’aproximació traint/test o utilitzant totes les dades (validació interna)"
   ]
  },
  {
   "cell_type": "markdown",
   "id": "2d49fc2f",
   "metadata": {},
   "source": [
    "**Linear Regression**"
   ]
  },
  {
   "cell_type": "code",
   "execution_count": 41,
   "id": "94b3bc87",
   "metadata": {},
   "outputs": [],
   "source": [
    "X_train, X_test, y_train, y_test = train_test_split(X, y, test_size=0.2, random_state=42)"
   ]
  },
  {
   "cell_type": "code",
   "execution_count": 42,
   "id": "b4e66daa",
   "metadata": {},
   "outputs": [],
   "source": [
    "linear_model=LinearRegression().fit(X_train, y_train) "
   ]
  },
  {
   "cell_type": "code",
   "execution_count": 43,
   "id": "8023cca3",
   "metadata": {},
   "outputs": [],
   "source": [
    "y_linear_pred= model.predict(X_test)"
   ]
  },
  {
   "cell_type": "code",
   "execution_count": 44,
   "id": "d09e8ab6",
   "metadata": {},
   "outputs": [
    {
     "data": {
      "text/html": [
       "<div>\n",
       "<style scoped>\n",
       "    .dataframe tbody tr th:only-of-type {\n",
       "        vertical-align: middle;\n",
       "    }\n",
       "\n",
       "    .dataframe tbody tr th {\n",
       "        vertical-align: top;\n",
       "    }\n",
       "\n",
       "    .dataframe thead th {\n",
       "        text-align: right;\n",
       "    }\n",
       "</style>\n",
       "<table border=\"1\" class=\"dataframe\">\n",
       "  <thead>\n",
       "    <tr style=\"text-align: right;\">\n",
       "      <th></th>\n",
       "      <th>Actual</th>\n",
       "      <th>Predicted</th>\n",
       "    </tr>\n",
       "  </thead>\n",
       "  <tbody>\n",
       "    <tr>\n",
       "      <th>0</th>\n",
       "      <td>44.0</td>\n",
       "      <td>36.443142</td>\n",
       "    </tr>\n",
       "    <tr>\n",
       "      <th>1</th>\n",
       "      <td>35.0</td>\n",
       "      <td>25.307737</td>\n",
       "    </tr>\n",
       "    <tr>\n",
       "      <th>2</th>\n",
       "      <td>137.0</td>\n",
       "      <td>146.784876</td>\n",
       "    </tr>\n",
       "    <tr>\n",
       "      <th>3</th>\n",
       "      <td>59.0</td>\n",
       "      <td>47.578546</td>\n",
       "    </tr>\n",
       "    <tr>\n",
       "      <th>4</th>\n",
       "      <td>28.0</td>\n",
       "      <td>29.356975</td>\n",
       "    </tr>\n",
       "  </tbody>\n",
       "</table>\n",
       "</div>"
      ],
      "text/plain": [
       "   Actual   Predicted\n",
       "0    44.0   36.443142\n",
       "1    35.0   25.307737\n",
       "2   137.0  146.784876\n",
       "3    59.0   47.578546\n",
       "4    28.0   29.356975"
      ]
     },
     "execution_count": 44,
     "metadata": {},
     "output_type": "execute_result"
    }
   ],
   "source": [
    "df=pd.DataFrame({'Actual': y_test, 'Predicted': y_linear_pred})\n",
    "df.head()"
   ]
  },
  {
   "cell_type": "code",
   "execution_count": 45,
   "id": "a4f69749",
   "metadata": {},
   "outputs": [
    {
     "data": {
      "image/png": "[encoded data removed]",
      "text/plain": [
       "<Figure size 1008x648 with 1 Axes>"
      ]
     },
     "metadata": {
      "needs_background": "light"
     },
     "output_type": "display_data"
    }
   ],
   "source": [
    "#plotting the first 30 observations\n",
    "\n",
    "df1=df.head(30) \n",
    "\n",
    "df1.plot(kind='bar',figsize=(14,9))\n",
    "plt.show()"
   ]
  },
  {
   "cell_type": "markdown",
   "id": "bcb46964",
   "metadata": {},
   "source": [
    "As we can see some of the predicted values are very close to the real ones in most observations."
   ]
  },
  {
   "cell_type": "code",
   "execution_count": 46,
   "id": "4b0c1191",
   "metadata": {},
   "outputs": [
    {
     "data": {
      "image/png": "[encoded data removed]",
      "text/plain": [
       "<Figure size 1008x360 with 1 Axes>"
      ]
     },
     "metadata": {
      "needs_background": "light"
     },
     "output_type": "display_data"
    }
   ],
   "source": [
    "fig, ax = plt.subplots(figsize = (14, 5))\n",
    "plt.scatter(X_test, y_test,  color='green')\n",
    "plt.plot(X_test, y_linear_pred, color='red', linewidth=3)\n",
    "plt.show()"
   ]
  },
  {
   "cell_type": "markdown",
   "id": "c2b7a3ba",
   "metadata": {},
   "source": [
    "The red line shows that our prediction algorithms is pretty accurate."
   ]
  },
  {
   "cell_type": "markdown",
   "id": "bfbec2b2",
   "metadata": {},
   "source": [
    "**Random Forest Regression Model**"
   ]
  },
  {
   "cell_type": "code",
   "execution_count": 47,
   "id": "68f46638",
   "metadata": {},
   "outputs": [
    {
     "data": {
      "text/plain": [
       "RandomForestRegressor(n_estimators=200, random_state=42)"
      ]
     },
     "execution_count": 47,
     "metadata": {},
     "output_type": "execute_result"
    }
   ],
   "source": [
    "rf=RandomForestRegressor(n_estimators=200, random_state=42)\n",
    "rf.fit(X_train, y_train)"
   ]
  },
  {
   "cell_type": "code",
   "execution_count": 48,
   "id": "37ad3518",
   "metadata": {},
   "outputs": [
    {
     "data": {
      "text/html": [
       "<div>\n",
       "<style scoped>\n",
       "    .dataframe tbody tr th:only-of-type {\n",
       "        vertical-align: middle;\n",
       "    }\n",
       "\n",
       "    .dataframe tbody tr th {\n",
       "        vertical-align: top;\n",
       "    }\n",
       "\n",
       "    .dataframe thead th {\n",
       "        text-align: right;\n",
       "    }\n",
       "</style>\n",
       "<table border=\"1\" class=\"dataframe\">\n",
       "  <thead>\n",
       "    <tr style=\"text-align: right;\">\n",
       "      <th></th>\n",
       "      <th>Actual</th>\n",
       "      <th>Predicted</th>\n",
       "    </tr>\n",
       "  </thead>\n",
       "  <tbody>\n",
       "    <tr>\n",
       "      <th>0</th>\n",
       "      <td>44.0</td>\n",
       "      <td>36.601642</td>\n",
       "    </tr>\n",
       "    <tr>\n",
       "      <th>1</th>\n",
       "      <td>35.0</td>\n",
       "      <td>29.278673</td>\n",
       "    </tr>\n",
       "    <tr>\n",
       "      <th>2</th>\n",
       "      <td>137.0</td>\n",
       "      <td>146.952079</td>\n",
       "    </tr>\n",
       "    <tr>\n",
       "      <th>3</th>\n",
       "      <td>59.0</td>\n",
       "      <td>46.730877</td>\n",
       "    </tr>\n",
       "    <tr>\n",
       "      <th>4</th>\n",
       "      <td>28.0</td>\n",
       "      <td>31.072135</td>\n",
       "    </tr>\n",
       "  </tbody>\n",
       "</table>\n",
       "</div>"
      ],
      "text/plain": [
       "   Actual   Predicted\n",
       "0    44.0   36.601642\n",
       "1    35.0   29.278673\n",
       "2   137.0  146.952079\n",
       "3    59.0   46.730877\n",
       "4    28.0   31.072135"
      ]
     },
     "execution_count": 48,
     "metadata": {},
     "output_type": "execute_result"
    }
   ],
   "source": [
    "df_rf=pd.DataFrame({'Actual':y_test, 'Predicted':rf_pred})\n",
    "df_rf.head()"
   ]
  },
  {
   "cell_type": "code",
   "execution_count": 49,
   "id": "252bef8d",
   "metadata": {},
   "outputs": [
    {
     "data": {
      "image/png": "[encoded data removed]",
      "text/plain": [
       "<Figure size 1008x648 with 1 Axes>"
      ]
     },
     "metadata": {
      "needs_background": "light"
     },
     "output_type": "display_data"
    }
   ],
   "source": [
    "df2=df_rf.head(30) \n",
    "\n",
    "df2.plot(kind='bar',figsize=(14,9))\n",
    "plt.show()"
   ]
  },
  {
   "cell_type": "markdown",
   "id": "61986b5d",
   "metadata": {},
   "source": [
    "As in the Linear Regression Model we can observe that predicted values vs. real are generally similar."
   ]
  },
  {
   "cell_type": "code",
   "execution_count": 50,
   "id": "7312b0d7",
   "metadata": {},
   "outputs": [
    {
     "data": {
      "image/png": "[encoded data removed]",
      "text/plain": [
       "<Figure size 1008x360 with 1 Axes>"
      ]
     },
     "metadata": {
      "needs_background": "light"
     },
     "output_type": "display_data"
    }
   ],
   "source": [
    "fig, ax = plt.subplots(figsize = (14, 5))\n",
    "plt.scatter(df_rf['Predicted'], df_rf['Actual'],  color='green')\n",
    "plt.show()"
   ]
  },
  {
   "cell_type": "markdown",
   "id": "46b8c0a8",
   "metadata": {},
   "source": [
    "A straight line proves that our model is very accurate."
   ]
  },
  {
   "cell_type": "markdown",
   "id": "56ac6ba7",
   "metadata": {},
   "source": [
    "**Lasso Regression Model**"
   ]
  },
  {
   "cell_type": "code",
   "execution_count": 51,
   "id": "3023b1b0",
   "metadata": {},
   "outputs": [
    {
     "data": {
      "text/plain": [
       "LassoCV(random_state=42)"
      ]
     },
     "execution_count": 51,
     "metadata": {},
     "output_type": "execute_result"
    }
   ],
   "source": [
    "model_lasso= LassoCV(random_state=42)\n",
    "model_lasso.fit(X_train, y_train)"
   ]
  },
  {
   "cell_type": "code",
   "execution_count": 52,
   "id": "7686e083",
   "metadata": {},
   "outputs": [
    {
     "data": {
      "text/html": [
       "<div>\n",
       "<style scoped>\n",
       "    .dataframe tbody tr th:only-of-type {\n",
       "        vertical-align: middle;\n",
       "    }\n",
       "\n",
       "    .dataframe tbody tr th {\n",
       "        vertical-align: top;\n",
       "    }\n",
       "\n",
       "    .dataframe thead th {\n",
       "        text-align: right;\n",
       "    }\n",
       "</style>\n",
       "<table border=\"1\" class=\"dataframe\">\n",
       "  <thead>\n",
       "    <tr style=\"text-align: right;\">\n",
       "      <th></th>\n",
       "      <th>Actual</th>\n",
       "      <th>Predicted</th>\n",
       "    </tr>\n",
       "  </thead>\n",
       "  <tbody>\n",
       "    <tr>\n",
       "      <th>0</th>\n",
       "      <td>44.0</td>\n",
       "      <td>40.469239</td>\n",
       "    </tr>\n",
       "    <tr>\n",
       "      <th>1</th>\n",
       "      <td>35.0</td>\n",
       "      <td>29.870078</td>\n",
       "    </tr>\n",
       "    <tr>\n",
       "      <th>2</th>\n",
       "      <td>137.0</td>\n",
       "      <td>145.497287</td>\n",
       "    </tr>\n",
       "    <tr>\n",
       "      <th>3</th>\n",
       "      <td>59.0</td>\n",
       "      <td>51.068399</td>\n",
       "    </tr>\n",
       "    <tr>\n",
       "      <th>4</th>\n",
       "      <td>28.0</td>\n",
       "      <td>33.724318</td>\n",
       "    </tr>\n",
       "  </tbody>\n",
       "</table>\n",
       "</div>"
      ],
      "text/plain": [
       "   Actual   Predicted\n",
       "0    44.0   40.469239\n",
       "1    35.0   29.870078\n",
       "2   137.0  145.497287\n",
       "3    59.0   51.068399\n",
       "4    28.0   33.724318"
      ]
     },
     "execution_count": 52,
     "metadata": {},
     "output_type": "execute_result"
    }
   ],
   "source": [
    "df_lasso=pd.DataFrame({'Actual':y_test, 'Predicted':lasso_pred})\n",
    "df_lasso.head()"
   ]
  },
  {
   "cell_type": "code",
   "execution_count": 53,
   "id": "a58b08a5",
   "metadata": {},
   "outputs": [
    {
     "data": {
      "image/png": "[encoded data removed]",
      "text/plain": [
       "<Figure size 1008x648 with 1 Axes>"
      ]
     },
     "metadata": {
      "needs_background": "light"
     },
     "output_type": "display_data"
    }
   ],
   "source": [
    "df3=df_lasso.head(30) \n",
    "\n",
    "df3.plot(kind='bar',figsize=(14,9))\n",
    "plt.show()"
   ]
  },
  {
   "cell_type": "markdown",
   "id": "0bc0dd59",
   "metadata": {},
   "source": [
    "As we can see some of the predicted values are very close to the real ones in most observations."
   ]
  },
  {
   "cell_type": "code",
   "execution_count": 54,
   "id": "e77c16a5",
   "metadata": {},
   "outputs": [
    {
     "data": {
      "image/png": "[encoded data removed]",
      "text/plain": [
       "<Figure size 1008x360 with 1 Axes>"
      ]
     },
     "metadata": {
      "needs_background": "light"
     },
     "output_type": "display_data"
    }
   ],
   "source": [
    "fig, ax = plt.subplots(figsize = (14, 5))\n",
    "plt.scatter(df_lasso['Predicted'], df_lasso['Actual'],  color='green')\n",
    "plt.show()"
   ]
  },
  {
   "cell_type": "markdown",
   "id": "64310ef8",
   "metadata": {},
   "source": [
    "### Exercici 5\n",
    "\n",
    "Realitza algun procés d’enginyeria de variables per millorar-ne la predicció"
   ]
  },
  {
   "cell_type": "code",
   "execution_count": 55,
   "id": "59cdd5f6",
   "metadata": {},
   "outputs": [
    {
     "data": {
      "text/html": [
       "<div>\n",
       "<style scoped>\n",
       "    .dataframe tbody tr th:only-of-type {\n",
       "        vertical-align: middle;\n",
       "    }\n",
       "\n",
       "    .dataframe tbody tr th {\n",
       "        vertical-align: top;\n",
       "    }\n",
       "\n",
       "    .dataframe thead th {\n",
       "        text-align: right;\n",
       "    }\n",
       "</style>\n",
       "<table border=\"1\" class=\"dataframe\">\n",
       "  <thead>\n",
       "    <tr style=\"text-align: right;\">\n",
       "      <th></th>\n",
       "      <th>DepDelay</th>\n",
       "      <th>ArrDelay</th>\n",
       "    </tr>\n",
       "  </thead>\n",
       "  <tbody>\n",
       "    <tr>\n",
       "      <th>count</th>\n",
       "      <td>1247486.00</td>\n",
       "      <td>1247486.00</td>\n",
       "    </tr>\n",
       "    <tr>\n",
       "      <th>mean</th>\n",
       "      <td>59.68</td>\n",
       "      <td>63.29</td>\n",
       "    </tr>\n",
       "    <tr>\n",
       "      <th>std</th>\n",
       "      <td>59.87</td>\n",
       "      <td>60.75</td>\n",
       "    </tr>\n",
       "    <tr>\n",
       "      <th>min</th>\n",
       "      <td>6.00</td>\n",
       "      <td>15.00</td>\n",
       "    </tr>\n",
       "    <tr>\n",
       "      <th>25%</th>\n",
       "      <td>24.00</td>\n",
       "      <td>26.00</td>\n",
       "    </tr>\n",
       "    <tr>\n",
       "      <th>50%</th>\n",
       "      <td>41.00</td>\n",
       "      <td>43.00</td>\n",
       "    </tr>\n",
       "    <tr>\n",
       "      <th>75%</th>\n",
       "      <td>75.00</td>\n",
       "      <td>79.00</td>\n",
       "    </tr>\n",
       "    <tr>\n",
       "      <th>max</th>\n",
       "      <td>2467.00</td>\n",
       "      <td>2461.00</td>\n",
       "    </tr>\n",
       "  </tbody>\n",
       "</table>\n",
       "</div>"
      ],
      "text/plain": [
       "         DepDelay    ArrDelay\n",
       "count  1247486.00  1247486.00\n",
       "mean        59.68       63.29\n",
       "std         59.87       60.75\n",
       "min          6.00       15.00\n",
       "25%         24.00       26.00\n",
       "50%         41.00       43.00\n",
       "75%         75.00       79.00\n",
       "max       2467.00     2461.00"
      ]
     },
     "execution_count": 55,
     "metadata": {},
     "output_type": "execute_result"
    }
   ],
   "source": [
    "#I will normalize the two variables taking out the outliers:\n",
    "\n",
    "airlines.describe()[['DepDelay','ArrDelay']].round(2)"
   ]
  },
  {
   "cell_type": "code",
   "execution_count": 56,
   "id": "26446853",
   "metadata": {},
   "outputs": [
    {
     "data": {
      "image/png": "[encoded data removed]",
      "text/plain": [
       "<Figure size 720x360 with 1 Axes>"
      ]
     },
     "metadata": {
      "needs_background": "light"
     },
     "output_type": "display_data"
    }
   ],
   "source": [
    "#Visualize original dataframe first to project outliers\n",
    "\n",
    "plt.figure(figsize=(10,5))\n",
    "sns.boxplot(data=airlines[['DepDelay','ArrDelay']], orient='h');\n",
    "plt.title('Delays Boxplot with two variables');\n",
    "plt.grid(axis='x')"
   ]
  },
  {
   "cell_type": "markdown",
   "id": "7bd5acd3",
   "metadata": {},
   "source": [
    "As we can see there are a considerable number of outliers."
   ]
  },
  {
   "cell_type": "code",
   "execution_count": 57,
   "id": "bd7adf63",
   "metadata": {},
   "outputs": [
    {
     "data": {
      "text/html": [
       "<div>\n",
       "<style scoped>\n",
       "    .dataframe tbody tr th:only-of-type {\n",
       "        vertical-align: middle;\n",
       "    }\n",
       "\n",
       "    .dataframe tbody tr th {\n",
       "        vertical-align: top;\n",
       "    }\n",
       "\n",
       "    .dataframe thead th {\n",
       "        text-align: right;\n",
       "    }\n",
       "</style>\n",
       "<table border=\"1\" class=\"dataframe\">\n",
       "  <thead>\n",
       "    <tr style=\"text-align: right;\">\n",
       "      <th></th>\n",
       "      <th>DepDelay</th>\n",
       "      <th>ArrDelay</th>\n",
       "    </tr>\n",
       "  </thead>\n",
       "  <tbody>\n",
       "    <tr>\n",
       "      <th>3</th>\n",
       "      <td>34.0</td>\n",
       "      <td>34.0</td>\n",
       "    </tr>\n",
       "    <tr>\n",
       "      <th>5</th>\n",
       "      <td>67.0</td>\n",
       "      <td>57.0</td>\n",
       "    </tr>\n",
       "    <tr>\n",
       "      <th>7</th>\n",
       "      <td>94.0</td>\n",
       "      <td>80.0</td>\n",
       "    </tr>\n",
       "    <tr>\n",
       "      <th>9</th>\n",
       "      <td>27.0</td>\n",
       "      <td>15.0</td>\n",
       "    </tr>\n",
       "    <tr>\n",
       "      <th>11</th>\n",
       "      <td>28.0</td>\n",
       "      <td>16.0</td>\n",
       "    </tr>\n",
       "  </tbody>\n",
       "</table>\n",
       "</div>"
      ],
      "text/plain": [
       "    DepDelay  ArrDelay\n",
       "3       34.0      34.0\n",
       "5       67.0      57.0\n",
       "7       94.0      80.0\n",
       "9       27.0      15.0\n",
       "11      28.0      16.0"
      ]
     },
     "execution_count": 57,
     "metadata": {},
     "output_type": "execute_result"
    }
   ],
   "source": [
    "robust_df=pd.DataFrame({'DepDelay':airlines.DepDelay, 'ArrDelay':airlines.ArrDelay})\n",
    "robust_df.head()"
   ]
  },
  {
   "cell_type": "code",
   "execution_count": 58,
   "id": "75d57aba",
   "metadata": {},
   "outputs": [
    {
     "data": {
      "text/html": [
       "<div>\n",
       "<style scoped>\n",
       "    .dataframe tbody tr th:only-of-type {\n",
       "        vertical-align: middle;\n",
       "    }\n",
       "\n",
       "    .dataframe tbody tr th {\n",
       "        vertical-align: top;\n",
       "    }\n",
       "\n",
       "    .dataframe thead th {\n",
       "        text-align: right;\n",
       "    }\n",
       "</style>\n",
       "<table border=\"1\" class=\"dataframe\">\n",
       "  <thead>\n",
       "    <tr style=\"text-align: right;\">\n",
       "      <th></th>\n",
       "      <th>DepDelay</th>\n",
       "      <th>ArrDelay</th>\n",
       "    </tr>\n",
       "  </thead>\n",
       "  <tbody>\n",
       "    <tr>\n",
       "      <th>count</th>\n",
       "      <td>1.247486e+06</td>\n",
       "      <td>1.247486e+06</td>\n",
       "    </tr>\n",
       "    <tr>\n",
       "      <th>mean</th>\n",
       "      <td>3.662198e-01</td>\n",
       "      <td>3.828497e-01</td>\n",
       "    </tr>\n",
       "    <tr>\n",
       "      <th>std</th>\n",
       "      <td>1.173898e+00</td>\n",
       "      <td>1.146298e+00</td>\n",
       "    </tr>\n",
       "    <tr>\n",
       "      <th>min</th>\n",
       "      <td>-6.862745e-01</td>\n",
       "      <td>-5.283019e-01</td>\n",
       "    </tr>\n",
       "    <tr>\n",
       "      <th>25%</th>\n",
       "      <td>-3.333333e-01</td>\n",
       "      <td>-3.207547e-01</td>\n",
       "    </tr>\n",
       "    <tr>\n",
       "      <th>50%</th>\n",
       "      <td>0.000000e+00</td>\n",
       "      <td>0.000000e+00</td>\n",
       "    </tr>\n",
       "    <tr>\n",
       "      <th>75%</th>\n",
       "      <td>6.666667e-01</td>\n",
       "      <td>6.792453e-01</td>\n",
       "    </tr>\n",
       "    <tr>\n",
       "      <th>max</th>\n",
       "      <td>4.756863e+01</td>\n",
       "      <td>4.562264e+01</td>\n",
       "    </tr>\n",
       "  </tbody>\n",
       "</table>\n",
       "</div>"
      ],
      "text/plain": [
       "           DepDelay      ArrDelay\n",
       "count  1.247486e+06  1.247486e+06\n",
       "mean   3.662198e-01  3.828497e-01\n",
       "std    1.173898e+00  1.146298e+00\n",
       "min   -6.862745e-01 -5.283019e-01\n",
       "25%   -3.333333e-01 -3.207547e-01\n",
       "50%    0.000000e+00  0.000000e+00\n",
       "75%    6.666667e-01  6.792453e-01\n",
       "max    4.756863e+01  4.562264e+01"
      ]
     },
     "execution_count": 58,
     "metadata": {},
     "output_type": "execute_result"
    }
   ],
   "source": [
    "#using RobustScaler to standardize ignoring the outliers\n",
    "\n",
    "from sklearn.preprocessing import RobustScaler\n",
    "\n",
    "#initiate Robust Scaler\n",
    "trans=RobustScaler()\n",
    "\n",
    "airlines_robust=robust_df.copy()\n",
    "\n",
    "numeric=airlines_robust.columns[-3:]\n",
    "\n",
    "#perform a robust scaler transform of the dataset\n",
    "airlines_robust[numeric]=trans.fit_transform(airlines_robust)\n",
    "airlines_robust[numeric].describe()"
   ]
  },
  {
   "cell_type": "code",
   "execution_count": 59,
   "id": "aa62e4ed",
   "metadata": {},
   "outputs": [],
   "source": [
    "airlines_scaled=airlines_robust[numeric].copy()"
   ]
  },
  {
   "cell_type": "code",
   "execution_count": 60,
   "id": "5634301e",
   "metadata": {},
   "outputs": [],
   "source": [
    "X=np.array(airlines_scaled['DepDelay']).reshape((-1, 1))\n",
    "y=np.array(airlines_scaled['ArrDelay'])"
   ]
  },
  {
   "cell_type": "code",
   "execution_count": 61,
   "id": "050742e0",
   "metadata": {},
   "outputs": [],
   "source": [
    "linear_model=LinearRegression().fit(X, y)"
   ]
  },
  {
   "cell_type": "code",
   "execution_count": 62,
   "id": "9b7bbaf3",
   "metadata": {},
   "outputs": [],
   "source": [
    "linear_pred=linear_model.predict(X)"
   ]
  },
  {
   "cell_type": "code",
   "execution_count": 63,
   "id": "89fac9b7",
   "metadata": {},
   "outputs": [
    {
     "data": {
      "text/plain": [
       "((1247486,), (1247486,), (1247486, 1))"
      ]
     },
     "execution_count": 63,
     "metadata": {},
     "output_type": "execute_result"
    }
   ],
   "source": [
    "linear_pred.shape, y.shape, X.shape"
   ]
  },
  {
   "cell_type": "code",
   "execution_count": 64,
   "id": "df2762fa",
   "metadata": {},
   "outputs": [
    {
     "data": {
      "text/html": [
       "<div>\n",
       "<style scoped>\n",
       "    .dataframe tbody tr th:only-of-type {\n",
       "        vertical-align: middle;\n",
       "    }\n",
       "\n",
       "    .dataframe tbody tr th {\n",
       "        vertical-align: top;\n",
       "    }\n",
       "\n",
       "    .dataframe thead th {\n",
       "        text-align: right;\n",
       "    }\n",
       "</style>\n",
       "<table border=\"1\" class=\"dataframe\">\n",
       "  <thead>\n",
       "    <tr style=\"text-align: right;\">\n",
       "      <th></th>\n",
       "      <th>Actual</th>\n",
       "      <th>Predicted</th>\n",
       "    </tr>\n",
       "  </thead>\n",
       "  <tbody>\n",
       "    <tr>\n",
       "      <th>0</th>\n",
       "      <td>-0.169811</td>\n",
       "      <td>-0.084365</td>\n",
       "    </tr>\n",
       "    <tr>\n",
       "      <th>1</th>\n",
       "      <td>0.264151</td>\n",
       "      <td>0.516093</td>\n",
       "    </tr>\n",
       "    <tr>\n",
       "      <th>2</th>\n",
       "      <td>0.698113</td>\n",
       "      <td>1.007376</td>\n",
       "    </tr>\n",
       "    <tr>\n",
       "      <th>3</th>\n",
       "      <td>-0.528302</td>\n",
       "      <td>-0.211734</td>\n",
       "    </tr>\n",
       "    <tr>\n",
       "      <th>4</th>\n",
       "      <td>-0.509434</td>\n",
       "      <td>-0.193539</td>\n",
       "    </tr>\n",
       "  </tbody>\n",
       "</table>\n",
       "</div>"
      ],
      "text/plain": [
       "     Actual  Predicted\n",
       "0 -0.169811  -0.084365\n",
       "1  0.264151   0.516093\n",
       "2  0.698113   1.007376\n",
       "3 -0.528302  -0.211734\n",
       "4 -0.509434  -0.193539"
      ]
     },
     "execution_count": 64,
     "metadata": {},
     "output_type": "execute_result"
    }
   ],
   "source": [
    "df_reg=pd.DataFrame({'Actual':y, 'Predicted':linear_pred})\n",
    "df_reg.head()"
   ]
  },
  {
   "cell_type": "code",
   "execution_count": 65,
   "id": "75843203",
   "metadata": {},
   "outputs": [
    {
     "data": {
      "image/png": "[encoded data removed]",
      "text/plain": [
       "<Figure size 1008x648 with 1 Axes>"
      ]
     },
     "metadata": {
      "needs_background": "light"
     },
     "output_type": "display_data"
    }
   ],
   "source": [
    "df4=df_reg.head(30) \n",
    "\n",
    "df4.plot(kind='bar',figsize=(14,9))\n",
    "plt.show()"
   ]
  },
  {
   "cell_type": "code",
   "execution_count": 66,
   "id": "4fda1c33",
   "metadata": {},
   "outputs": [
    {
     "name": "stdout",
     "output_type": "stream",
     "text": [
      "R Square for Linear Model: 0.9031143387590901\n"
     ]
    }
   ],
   "source": [
    "r_sq4=linear_model.score(X, y)\n",
    "print('R Square for Linear Model:' , r_sq4)"
   ]
  },
  {
   "cell_type": "code",
   "execution_count": 67,
   "id": "64e4a834",
   "metadata": {},
   "outputs": [
    {
     "name": "stdout",
     "output_type": "stream",
     "text": [
      "Mean Squared Error for Linear Model: 0.12730757489883315\n"
     ]
    }
   ],
   "source": [
    "print('Mean Squared Error for Linear Model:', metrics.mean_squared_error(y, linear_pred))"
   ]
  },
  {
   "cell_type": "markdown",
   "id": "64d2cbcd",
   "metadata": {},
   "source": [
    "Let's compare the results with the previous exercise:\n",
    "\n",
    "- R Square for Linear Model: 0.9031143387590899\n",
    "- Mean Squared Error for Linear Model: 357.60697789082246\n",
    "\n",
    "As we can see there are no major changes in R Square but we can see an improvement in MSE. So thanls to Feature Engineering we have gained accuracy in our model."
   ]
  },
  {
   "cell_type": "markdown",
   "id": "f6510877",
   "metadata": {},
   "source": [
    "### Exercici 6\n",
    "\n",
    "No utilitzis la variable DepDelay a l’hora de fer prediccions"
   ]
  },
  {
   "cell_type": "code",
   "execution_count": 68,
   "id": "9d1037ed",
   "metadata": {},
   "outputs": [
    {
     "data": {
      "text/html": [
       "<div>\n",
       "<style scoped>\n",
       "    .dataframe tbody tr th:only-of-type {\n",
       "        vertical-align: middle;\n",
       "    }\n",
       "\n",
       "    .dataframe tbody tr th {\n",
       "        vertical-align: top;\n",
       "    }\n",
       "\n",
       "    .dataframe thead th {\n",
       "        text-align: right;\n",
       "    }\n",
       "</style>\n",
       "<table border=\"1\" class=\"dataframe\">\n",
       "  <thead>\n",
       "    <tr style=\"text-align: right;\">\n",
       "      <th></th>\n",
       "      <th>Year</th>\n",
       "      <th>Month</th>\n",
       "      <th>DayofMonth</th>\n",
       "      <th>DayOfWeek</th>\n",
       "      <th>DepTime</th>\n",
       "      <th>ArrTime</th>\n",
       "      <th>AirTime</th>\n",
       "      <th>ArrDelay</th>\n",
       "      <th>DepDelay</th>\n",
       "      <th>Distance</th>\n",
       "      <th>Cancelled</th>\n",
       "      <th>Diverted</th>\n",
       "      <th>CarrierDelay</th>\n",
       "      <th>WeatherDelay</th>\n",
       "      <th>NASDelay</th>\n",
       "      <th>SecurityDelay</th>\n",
       "      <th>LateAircraftDelay</th>\n",
       "    </tr>\n",
       "  </thead>\n",
       "  <tbody>\n",
       "    <tr>\n",
       "      <th>count</th>\n",
       "      <td>1247486.0</td>\n",
       "      <td>1247486.00</td>\n",
       "      <td>1247486.00</td>\n",
       "      <td>1247486.00</td>\n",
       "      <td>1247486.00</td>\n",
       "      <td>1247486.00</td>\n",
       "      <td>1247486.00</td>\n",
       "      <td>1247486.00</td>\n",
       "      <td>1247486.00</td>\n",
       "      <td>1247486.00</td>\n",
       "      <td>1247486.0</td>\n",
       "      <td>1247486.0</td>\n",
       "      <td>1247486.00</td>\n",
       "      <td>1247486.00</td>\n",
       "      <td>1247486.00</td>\n",
       "      <td>1247486.00</td>\n",
       "      <td>1247486.00</td>\n",
       "    </tr>\n",
       "    <tr>\n",
       "      <th>mean</th>\n",
       "      <td>2008.0</td>\n",
       "      <td>6.07</td>\n",
       "      <td>15.73</td>\n",
       "      <td>3.98</td>\n",
       "      <td>1558.83</td>\n",
       "      <td>1616.75</td>\n",
       "      <td>107.42</td>\n",
       "      <td>63.29</td>\n",
       "      <td>59.68</td>\n",
       "      <td>741.59</td>\n",
       "      <td>0.0</td>\n",
       "      <td>0.0</td>\n",
       "      <td>19.18</td>\n",
       "      <td>3.70</td>\n",
       "      <td>15.02</td>\n",
       "      <td>0.09</td>\n",
       "      <td>25.30</td>\n",
       "    </tr>\n",
       "    <tr>\n",
       "      <th>std</th>\n",
       "      <td>0.0</td>\n",
       "      <td>3.51</td>\n",
       "      <td>8.79</td>\n",
       "      <td>1.99</td>\n",
       "      <td>454.33</td>\n",
       "      <td>583.94</td>\n",
       "      <td>68.17</td>\n",
       "      <td>60.75</td>\n",
       "      <td>59.87</td>\n",
       "      <td>559.36</td>\n",
       "      <td>0.0</td>\n",
       "      <td>0.0</td>\n",
       "      <td>43.55</td>\n",
       "      <td>21.49</td>\n",
       "      <td>33.83</td>\n",
       "      <td>2.02</td>\n",
       "      <td>42.05</td>\n",
       "    </tr>\n",
       "    <tr>\n",
       "      <th>min</th>\n",
       "      <td>2008.0</td>\n",
       "      <td>1.00</td>\n",
       "      <td>1.00</td>\n",
       "      <td>1.00</td>\n",
       "      <td>1.00</td>\n",
       "      <td>1.00</td>\n",
       "      <td>0.00</td>\n",
       "      <td>15.00</td>\n",
       "      <td>6.00</td>\n",
       "      <td>11.00</td>\n",
       "      <td>0.0</td>\n",
       "      <td>0.0</td>\n",
       "      <td>0.00</td>\n",
       "      <td>0.00</td>\n",
       "      <td>0.00</td>\n",
       "      <td>0.00</td>\n",
       "      <td>0.00</td>\n",
       "    </tr>\n",
       "    <tr>\n",
       "      <th>25%</th>\n",
       "      <td>2008.0</td>\n",
       "      <td>3.00</td>\n",
       "      <td>8.00</td>\n",
       "      <td>2.00</td>\n",
       "      <td>1232.00</td>\n",
       "      <td>1326.00</td>\n",
       "      <td>58.00</td>\n",
       "      <td>26.00</td>\n",
       "      <td>24.00</td>\n",
       "      <td>334.00</td>\n",
       "      <td>0.0</td>\n",
       "      <td>0.0</td>\n",
       "      <td>0.00</td>\n",
       "      <td>0.00</td>\n",
       "      <td>0.00</td>\n",
       "      <td>0.00</td>\n",
       "      <td>0.00</td>\n",
       "    </tr>\n",
       "    <tr>\n",
       "      <th>50%</th>\n",
       "      <td>2008.0</td>\n",
       "      <td>6.00</td>\n",
       "      <td>16.00</td>\n",
       "      <td>4.00</td>\n",
       "      <td>1618.00</td>\n",
       "      <td>1737.00</td>\n",
       "      <td>90.00</td>\n",
       "      <td>43.00</td>\n",
       "      <td>41.00</td>\n",
       "      <td>595.00</td>\n",
       "      <td>0.0</td>\n",
       "      <td>0.0</td>\n",
       "      <td>2.00</td>\n",
       "      <td>0.00</td>\n",
       "      <td>2.00</td>\n",
       "      <td>0.00</td>\n",
       "      <td>8.00</td>\n",
       "    </tr>\n",
       "    <tr>\n",
       "      <th>75%</th>\n",
       "      <td>2008.0</td>\n",
       "      <td>9.00</td>\n",
       "      <td>23.00</td>\n",
       "      <td>6.00</td>\n",
       "      <td>1924.00</td>\n",
       "      <td>2048.00</td>\n",
       "      <td>136.00</td>\n",
       "      <td>79.00</td>\n",
       "      <td>75.00</td>\n",
       "      <td>972.00</td>\n",
       "      <td>0.0</td>\n",
       "      <td>0.0</td>\n",
       "      <td>21.00</td>\n",
       "      <td>0.00</td>\n",
       "      <td>15.00</td>\n",
       "      <td>0.00</td>\n",
       "      <td>33.00</td>\n",
       "    </tr>\n",
       "    <tr>\n",
       "      <th>max</th>\n",
       "      <td>2008.0</td>\n",
       "      <td>12.00</td>\n",
       "      <td>31.00</td>\n",
       "      <td>7.00</td>\n",
       "      <td>2400.00</td>\n",
       "      <td>2400.00</td>\n",
       "      <td>1091.00</td>\n",
       "      <td>2461.00</td>\n",
       "      <td>2467.00</td>\n",
       "      <td>4962.00</td>\n",
       "      <td>0.0</td>\n",
       "      <td>0.0</td>\n",
       "      <td>2436.00</td>\n",
       "      <td>1352.00</td>\n",
       "      <td>1357.00</td>\n",
       "      <td>392.00</td>\n",
       "      <td>1316.00</td>\n",
       "    </tr>\n",
       "  </tbody>\n",
       "</table>\n",
       "</div>"
      ],
      "text/plain": [
       "            Year       Month  DayofMonth   DayOfWeek     DepTime     ArrTime  \\\n",
       "count  1247486.0  1247486.00  1247486.00  1247486.00  1247486.00  1247486.00   \n",
       "mean      2008.0        6.07       15.73        3.98     1558.83     1616.75   \n",
       "std          0.0        3.51        8.79        1.99      454.33      583.94   \n",
       "min       2008.0        1.00        1.00        1.00        1.00        1.00   \n",
       "25%       2008.0        3.00        8.00        2.00     1232.00     1326.00   \n",
       "50%       2008.0        6.00       16.00        4.00     1618.00     1737.00   \n",
       "75%       2008.0        9.00       23.00        6.00     1924.00     2048.00   \n",
       "max       2008.0       12.00       31.00        7.00     2400.00     2400.00   \n",
       "\n",
       "          AirTime    ArrDelay    DepDelay    Distance  Cancelled   Diverted  \\\n",
       "count  1247486.00  1247486.00  1247486.00  1247486.00  1247486.0  1247486.0   \n",
       "mean       107.42       63.29       59.68      741.59        0.0        0.0   \n",
       "std         68.17       60.75       59.87      559.36        0.0        0.0   \n",
       "min          0.00       15.00        6.00       11.00        0.0        0.0   \n",
       "25%         58.00       26.00       24.00      334.00        0.0        0.0   \n",
       "50%         90.00       43.00       41.00      595.00        0.0        0.0   \n",
       "75%        136.00       79.00       75.00      972.00        0.0        0.0   \n",
       "max       1091.00     2461.00     2467.00     4962.00        0.0        0.0   \n",
       "\n",
       "       CarrierDelay  WeatherDelay    NASDelay  SecurityDelay  \\\n",
       "count    1247486.00    1247486.00  1247486.00     1247486.00   \n",
       "mean          19.18          3.70       15.02           0.09   \n",
       "std           43.55         21.49       33.83           2.02   \n",
       "min            0.00          0.00        0.00           0.00   \n",
       "25%            0.00          0.00        0.00           0.00   \n",
       "50%            2.00          0.00        2.00           0.00   \n",
       "75%           21.00          0.00       15.00           0.00   \n",
       "max         2436.00       1352.00     1357.00         392.00   \n",
       "\n",
       "       LateAircraftDelay  \n",
       "count         1247486.00  \n",
       "mean               25.30  \n",
       "std                42.05  \n",
       "min                 0.00  \n",
       "25%                 0.00  \n",
       "50%                 8.00  \n",
       "75%                33.00  \n",
       "max              1316.00  "
      ]
     },
     "execution_count": 68,
     "metadata": {},
     "output_type": "execute_result"
    }
   ],
   "source": [
    "airlines.describe().round(2)"
   ]
  },
  {
   "cell_type": "markdown",
   "id": "3baebb32",
   "metadata": {},
   "source": [
    "DepDelay is disaggregated into: CarrierDelay, WeatherDelay, NASDelay, SecurityDelay, and LateAircraftDelay. So if we add all those values we will get the total delay to predict ArrDelay."
   ]
  },
  {
   "cell_type": "code",
   "execution_count": 69,
   "id": "b2f8fca9",
   "metadata": {},
   "outputs": [
    {
     "data": {
      "text/html": [
       "<div>\n",
       "<style scoped>\n",
       "    .dataframe tbody tr th:only-of-type {\n",
       "        vertical-align: middle;\n",
       "    }\n",
       "\n",
       "    .dataframe tbody tr th {\n",
       "        vertical-align: top;\n",
       "    }\n",
       "\n",
       "    .dataframe thead th {\n",
       "        text-align: right;\n",
       "    }\n",
       "</style>\n",
       "<table border=\"1\" class=\"dataframe\">\n",
       "  <thead>\n",
       "    <tr style=\"text-align: right;\">\n",
       "      <th></th>\n",
       "      <th>TotalDelays</th>\n",
       "    </tr>\n",
       "  </thead>\n",
       "  <tbody>\n",
       "    <tr>\n",
       "      <th>3</th>\n",
       "      <td>34.0</td>\n",
       "    </tr>\n",
       "    <tr>\n",
       "      <th>5</th>\n",
       "      <td>57.0</td>\n",
       "    </tr>\n",
       "    <tr>\n",
       "      <th>7</th>\n",
       "      <td>80.0</td>\n",
       "    </tr>\n",
       "    <tr>\n",
       "      <th>9</th>\n",
       "      <td>15.0</td>\n",
       "    </tr>\n",
       "    <tr>\n",
       "      <th>11</th>\n",
       "      <td>16.0</td>\n",
       "    </tr>\n",
       "  </tbody>\n",
       "</table>\n",
       "</div>"
      ],
      "text/plain": [
       "    TotalDelays\n",
       "3          34.0\n",
       "5          57.0\n",
       "7          80.0\n",
       "9          15.0\n",
       "11         16.0"
      ]
     },
     "execution_count": 69,
     "metadata": {},
     "output_type": "execute_result"
    }
   ],
   "source": [
    "delays=airlines[['CarrierDelay','WeatherDelay','NASDelay','SecurityDelay','LateAircraftDelay']].sum(axis=1)\n",
    "delays=pd.DataFrame({'TotalDelays':delays})\n",
    "delays.head()"
   ]
  },
  {
   "cell_type": "code",
   "execution_count": 70,
   "id": "e2e18d82",
   "metadata": {},
   "outputs": [],
   "source": [
    "X=np.array(delays['TotalDelays']).reshape((-1, 1))\n",
    "y=np.array(airlines['ArrDelay'])"
   ]
  },
  {
   "cell_type": "code",
   "execution_count": 71,
   "id": "3afae75d",
   "metadata": {},
   "outputs": [
    {
     "name": "stdout",
     "output_type": "stream",
     "text": [
      "(1247486, 1)\n",
      "(1247486,)\n"
     ]
    }
   ],
   "source": [
    "print(X.shape)\n",
    "print(y.shape)"
   ]
  },
  {
   "cell_type": "code",
   "execution_count": 72,
   "id": "59184471",
   "metadata": {},
   "outputs": [],
   "source": [
    "#I will use Lasso Regression Model for the prediction, first Train-Set Test\n",
    "\n",
    "X_train, X_test, y_train, y_test = train_test_split(X, y, test_size=0.2, random_state=42)"
   ]
  },
  {
   "cell_type": "code",
   "execution_count": 73,
   "id": "58c33901",
   "metadata": {},
   "outputs": [
    {
     "data": {
      "text/plain": [
       "LassoCV(random_state=42)"
      ]
     },
     "execution_count": 73,
     "metadata": {},
     "output_type": "execute_result"
    }
   ],
   "source": [
    "model_lasso= LassoCV(random_state=42)\n",
    "model_lasso.fit(X_train, y_train)"
   ]
  },
  {
   "cell_type": "code",
   "execution_count": 74,
   "id": "07a2ac3c",
   "metadata": {},
   "outputs": [
    {
     "data": {
      "text/html": [
       "<div>\n",
       "<style scoped>\n",
       "    .dataframe tbody tr th:only-of-type {\n",
       "        vertical-align: middle;\n",
       "    }\n",
       "\n",
       "    .dataframe tbody tr th {\n",
       "        vertical-align: top;\n",
       "    }\n",
       "\n",
       "    .dataframe thead th {\n",
       "        text-align: right;\n",
       "    }\n",
       "</style>\n",
       "<table border=\"1\" class=\"dataframe\">\n",
       "  <thead>\n",
       "    <tr style=\"text-align: right;\">\n",
       "      <th></th>\n",
       "      <th>Actual</th>\n",
       "      <th>Predicted</th>\n",
       "    </tr>\n",
       "  </thead>\n",
       "  <tbody>\n",
       "    <tr>\n",
       "      <th>0</th>\n",
       "      <td>44.0</td>\n",
       "      <td>40.469239</td>\n",
       "    </tr>\n",
       "    <tr>\n",
       "      <th>1</th>\n",
       "      <td>35.0</td>\n",
       "      <td>29.870078</td>\n",
       "    </tr>\n",
       "    <tr>\n",
       "      <th>2</th>\n",
       "      <td>137.0</td>\n",
       "      <td>145.497287</td>\n",
       "    </tr>\n",
       "    <tr>\n",
       "      <th>3</th>\n",
       "      <td>59.0</td>\n",
       "      <td>51.068399</td>\n",
       "    </tr>\n",
       "    <tr>\n",
       "      <th>4</th>\n",
       "      <td>28.0</td>\n",
       "      <td>33.724318</td>\n",
       "    </tr>\n",
       "  </tbody>\n",
       "</table>\n",
       "</div>"
      ],
      "text/plain": [
       "   Actual   Predicted\n",
       "0    44.0   40.469239\n",
       "1    35.0   29.870078\n",
       "2   137.0  145.497287\n",
       "3    59.0   51.068399\n",
       "4    28.0   33.724318"
      ]
     },
     "execution_count": 74,
     "metadata": {},
     "output_type": "execute_result"
    }
   ],
   "source": [
    "df_lasso2=pd.DataFrame({'Actual':y_test, 'Predicted':lasso_pred})\n",
    "df_lasso2.head()"
   ]
  },
  {
   "cell_type": "code",
   "execution_count": 75,
   "id": "a4fc746c",
   "metadata": {},
   "outputs": [
    {
     "data": {
      "image/png": "[encoded data removed]",
      "text/plain": [
       "<Figure size 1008x360 with 1 Axes>"
      ]
     },
     "metadata": {
      "needs_background": "light"
     },
     "output_type": "display_data"
    }
   ],
   "source": [
    "fig, ax = plt.subplots(figsize = (14, 5))\n",
    "plt.scatter(df_lasso2['Predicted'], df_lasso2['Actual'],  color='green')\n",
    "plt.show()"
   ]
  },
  {
   "cell_type": "code",
   "execution_count": 76,
   "id": "52f09084",
   "metadata": {},
   "outputs": [
    {
     "name": "stdout",
     "output_type": "stream",
     "text": [
      "coefficient of determination: 0.9999989999999743\n"
     ]
    }
   ],
   "source": [
    "r_sq_lasso2=model_lasso.score(X, y)\n",
    "print('coefficient of determination:', r_sq_lasso2)"
   ]
  },
  {
   "cell_type": "code",
   "execution_count": 77,
   "id": "d3275727",
   "metadata": {},
   "outputs": [
    {
     "name": "stdout",
     "output_type": "stream",
     "text": [
      "Mean Squared Error for Lasso Model: 357.5868665555633\n"
     ]
    }
   ],
   "source": [
    "print('Mean Squared Error for Lasso Model:', metrics.mean_squared_error(y_test, lasso_pred))"
   ]
  },
  {
   "cell_type": "markdown",
   "id": "638133c4",
   "metadata": {},
   "source": [
    "Improves R Square (initial R Square: 0.9031136853636889)\n",
    "\n",
    "MSE remains the same: 357.5868665555633"
   ]
  }
 ],
 "metadata": {
  "kernelspec": {
   "display_name": "Python 3 (ipykernel)",
   "language": "python",
   "name": "python3"
  },
  "language_info": {
   "codemirror_mode": {
    "name": "ipython",
    "version": 3
   },
   "file_extension": ".py",
   "mimetype": "text/x-python",
   "name": "python",
   "nbconvert_exporter": "python",
   "pygments_lexer": "ipython3",
   "version": "3.8.8"
  }
 },
 "nbformat": 4,
 "nbformat_minor": 5
}
